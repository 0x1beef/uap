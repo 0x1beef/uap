{
 "cells": [
  {
   "cell_type": "markdown",
   "metadata": {},
   "source": [
    "<a href=\"https://colab.research.google.com/github/0x1beef/uap/blob/main/src/gofast_ranging.ipynb\">\n",
    "    <img src=\"https://colab.research.google.com/assets/colab-badge.svg\" alt=\"Open In Colab\"/>\n",
    "</a>\n",
    "<a href=\"https://kaggle.com/kernels/welcome?src=https://github.com/0x1beef/uap/blob/main/src/gofast_ranging.ipynb\">\n",
    "    <img src=\"https://kaggle.com/static/images/open-in-kaggle.svg\" alt=\"Open In Kaggle\"   />\n",
    "</a>"
   ]
  },
  {
   "cell_type": "markdown",
   "metadata": {
    "_cell_guid": "b1076dfc-b9ad-4769-8c92-a6c4dae69d19",
    "_uuid": "8f2839f25d086af736a60e9eeb907d3b93b6e0e5"
   },
   "source": [
    "# Download Sitrec, set it up for running scripts"
   ]
  },
  {
   "cell_type": "code",
   "execution_count": null,
   "metadata": {},
   "outputs": [],
   "source": [
    "# download only what's needed for the script\n",
    "!git clone --no-checkout --filter=tree:0 https://github.com/MickWest/sitrec.git\n",
    "!cd sitrec && git sparse-checkout set --no-cone /src /config* /package* /data/gofast\n",
    "!cd sitrec && cp config.js.example config.js"
   ]
  },
  {
   "cell_type": "code",
   "execution_count": null,
   "metadata": {},
   "outputs": [],
   "source": [
    "!curl -fsSL https://bun.sh/install | bash\n",
    "\n",
    "import os\n",
    "os.environ['PATH'] = \"~/.bun/bin:\" + os.environ['PATH']"
   ]
  },
  {
   "cell_type": "code",
   "execution_count": null,
   "metadata": {},
   "outputs": [],
   "source": [
    "!cd sitrec && bun install --production"
   ]
  },
  {
   "cell_type": "markdown",
   "metadata": {},
   "source": [
    "# Get the GoFast data"
   ]
  },
  {
   "cell_type": "code",
   "execution_count": null,
   "metadata": {},
   "outputs": [],
   "source": [
    "%%writefile gofast.js\n",
    "// note: the Sitrec internal API may change over time\n",
    "import { initSitch } from \"./sitrec/src/indexCommon.js\"\n",
    "import { NodeMan } from \"./sitrec/src/Globals.js\"\n",
    "import { Sit } from \"./sitrec/src/Globals.js\"\n",
    "import { jetRollFromFrame } from \"./sitrec/src/JetStuff.js\"\n",
    "import csv from \"./sitrec/src/js/jquery.csv.js\"\n",
    "import fs from \"node:fs\"\n",
    "\n",
    "await initSitch(\"gofast\", \"SitGoFast.js\")\n",
    "\n",
    "const jetTrack_node = NodeMan.get(\"jetTrack\")\n",
    "const targetTrack_node = NodeMan.get(\"LOSTraverseSelect\")\n",
    "\n",
    "var data = [[\"jet\", \"target\", \"jet_roll\"]]\n",
    "for(let frame = 0; frame < Sit.frames; frame++) {\n",
    "    const pj = jetTrack_node.getValueFrame(frame).position.toArray()\n",
    "    const pt = targetTrack_node.getValueFrame(frame).position.toArray()\n",
    "    const jet_roll = jetRollFromFrame(frame)\n",
    "    data.push([pj, pt, jet_roll])\n",
    "}\n",
    "\n",
    "const csv_text = csv.fromArrays(data)\n",
    "fs.writeFileSync(\"sitrec_data.csv\", csv_text)"
   ]
  },
  {
   "cell_type": "code",
   "execution_count": null,
   "metadata": {},
   "outputs": [],
   "source": [
    "!bun gofast.js"
   ]
  },
  {
   "cell_type": "code",
   "execution_count": null,
   "metadata": {},
   "outputs": [],
   "source": [
    "import pandas as pd\n",
    "import numpy as np\n",
    "df = pd.read_csv(\"sitrec_data.csv\")\n",
    "df = df.map(lambda p : p if type(p) != str else np.array(p.split(','), np.float64))\n",
    "df"
   ]
  },
  {
   "cell_type": "markdown",
   "metadata": {},
   "source": [
    "# Constant Velocity Passive Ranging "
   ]
  },
  {
   "cell_type": "code",
   "execution_count": null,
   "metadata": {},
   "outputs": [],
   "source": [
    "import numpy as np\n",
    "\n",
    "# if at time t[i] the camera is at 3D position C[i]\n",
    "# and the LOS towards the target is the unit vector L[i]\n",
    "# return the speed and distance to the target at t[0]\n",
    "# assuming the target's velocity is constant\n",
    "def constant_velocity_ranging(t, C, L):\n",
    "    n = len(t)\n",
    "    # If P[i] is the target's postion at t[i]\n",
    "    # and d is the distance to the target at t[0] then\n",
    "    # P[0] = C[0] + d L[0] (1)\n",
    "    # Given the constant velocity vector V we also have\n",
    "    # P[i] = P[0] + V (t[i]-t[0]) (2)\n",
    "    # Since P[i] must be along the line of sight L[i] from C[i]\n",
    "    # (P[i] - C[i]) x L[i] = 0 (3)\n",
    "    # Substituting (1),(2) into (3) and rearranging we get\n",
    "    # d L[0]xL[i] + V x L[i] (t[i]-t[0]) = (C[i]-C[0]) x L[i]\n",
    "    # This is a system of 3*(n-1) linear equations which we\n",
    "    # represent as A X = B where X = (d,Vx,Vy,Vz)\n",
    "    # and solve for X using linear least squares.\n",
    "    (eqs, vars) = (3*(n-1), 4)\n",
    "    A = np.zeros(shape=[eqs,vars])\n",
    "    B = np.zeros(shape=[eqs,1])\n",
    "    for i in range(1, n):\n",
    "        eq = 3*(i-1)\n",
    "        L0xLi = np.cross(L[0], L[i])\n",
    "        dt = t[i]-t[0]\n",
    "        # V x L = (Vy Lz - Vz Ly, Vz Lx - Vx Lz, Vx Ly - Vy Lz)\n",
    "        A[eq:eq+3] = np.array([\n",
    "            [ L0xLi[0],  0,          dt*L[i,2], -dt*L[i,1] ],\n",
    "            [ L0xLi[1], -dt*L[i,2],  0,          dt*L[i,0] ],\n",
    "            [ L0xLi[2],  dt*L[i,1], -dt*L[i,0],  0 ]\n",
    "        ])\n",
    "        B[eq:eq+3,0] = np.cross(C[i]-C[0], L[i])\n",
    "    ret = np.linalg.lstsq(A,B,rcond=None)\n",
    "    X = ret[0]\n",
    "    d = X[0,0]\n",
    "    V = X[1:]\n",
    "    v = np.linalg.norm(V)\n",
    "    debug_info = { 'A': A, 'B': B, 'ret': ret }\n",
    "    return (v, d, debug_info)"
   ]
  },
  {
   "cell_type": "markdown",
   "metadata": {},
   "source": [
    "# Tracking Error Model"
   ]
  },
  {
   "cell_type": "code",
   "execution_count": null,
   "metadata": {},
   "outputs": [],
   "source": [
    "import math\n",
    "\n",
    "def get_heading_from_az_el(az,el):\n",
    "    (az,el) = (math.radians(az), math.radians(el))\n",
    "    x = math.cos(el) * math.sin(az)\n",
    "    y = math.sin(el)\n",
    "    z = math.cos(el) * math.cos (az)\n",
    "    return np.array([x,y,-z])\n",
    "\n",
    "def get_az_el_from_heading(v):\n",
    "    (vx,vy,vz) = (v[0],v[1],v[2])\n",
    "    el = math.atan2(vy, math.sqrt(vz*vz + vx*vx))\n",
    "    az = math.atan2(vx,-vz)\n",
    "    return (math.degrees(az), math.degrees(el))\n",
    "\n",
    "# return a randomly adjusted line of sight (L), given\n",
    "# the standard deviation of the tracking error in pixels\n",
    "def add_tracking_error(L, pixels):\n",
    "    FOV = 0.7\n",
    "    img_size = 480 # original sensor size\n",
    "    # angle corresponding to the given number of pixels:\n",
    "    err = FOV / img_size * pixels\n",
    "    # we sample two numbers from a normal distribution\n",
    "    # whose standard deviation is 'err', centered around 0\n",
    "    E = np.random.normal(0.0, err, 2)\n",
    "    (az,el) = get_az_el_from_heading(L) + E\n",
    "    return get_heading_from_az_el(az,el)\n",
    "\n",
    "# calculate the noisy lines of sight only once\n",
    "# and store the results in the dataframe\n",
    "def add_tracking_errors(track_error):\n",
    "    def los_err_for_row(r):\n",
    "        return add_tracking_error(r.target - r.jet, track_error)\n",
    "    df['Lerr'] = df.apply(los_err_for_row, axis=1)\n",
    "\n",
    "def frame_to_time(frame):\n",
    "    return frame / 29.97\n",
    "def time_to_frame(time):\n",
    "    return time * 29.97\n",
    "\n",
    "# for the given set of frame indices\n",
    "# return the frame times, camera positions and lines of sight.\n",
    "def get_tCL(frames):\n",
    "    n = len(frames)\n",
    "    t = np.zeros(shape=[n])\n",
    "    C = np.zeros(shape=[n,3])\n",
    "    L = np.zeros(shape=[n,3])\n",
    "    for i in range(n):\n",
    "        t[i] = frame_to_time(frames[i])\n",
    "        data = df.loc[frames[i]]\n",
    "        C[i] = data.jet\n",
    "        L[i] = data.Lerr # from add_tracking_errors \n",
    "    return (t,C,L)\n",
    "\n",
    "def print_mat(name, M):\n",
    "    print(name, M.shape, '=\\n', M)\n",
    "    \n",
    "def debug_tCL(t,C,L):\n",
    "    print_mat('t',t)\n",
    "    print_mat('C',C)\n",
    "    print_mat('L',L)\n",
    "\n",
    "def debug_lstsq(info):\n",
    "    (A,B,ret) = (info['A'],info['B'],info['ret'])\n",
    "    X = ret[0]\n",
    "    print_mat('A',A)\n",
    "    print_mat('B',B)\n",
    "    print_mat('X',X)\n",
    "    print(ret)\n",
    "    print('cond', np.linalg.cond(A))\n",
    "    print(np.linalg.norm(B - A @ X))\n",
    "\n",
    "# convert meters to nautical miles\n",
    "def m_to_nm(meters):\n",
    "    return meters / 1852\n",
    "\n",
    "# convert meters per second to knots\n",
    "def mps_to_knots(meters_per_sec):\n",
    "    return meters_per_sec * 1.94384\n",
    "\n",
    "# get an average range estimate for a set of frames\n",
    "def get_range_for_frames(frames, debug = 0):\n",
    "    (t,C,L) = get_tCL(frames)\n",
    "    if debug >= 3: debug_tCL(t,C,L)\n",
    "    (v,d,debug_info) = constant_velocity_ranging(t,C,L)\n",
    "    (v,d) = (mps_to_knots(v), m_to_nm(d))\n",
    "    if debug >= 2: debug_lstsq(debug_info)\n",
    "    if debug >= 1: print(f'd = {d:.2f} nm, v = {v:.2f} knots')\n",
    "    return d"
   ]
  },
  {
   "cell_type": "markdown",
   "metadata": {},
   "source": [
    "# Plot the Passive Ranging for GoFast"
   ]
  },
  {
   "cell_type": "code",
   "execution_count": null,
   "metadata": {},
   "outputs": [],
   "source": [
    "import matplotlib.pyplot as plt\n",
    "\n",
    "def plot_range():\n",
    "    first_track = 338 # first frame where the target starts being tracked\n",
    "    first_range = 370 # first frame where the range is displayed\n",
    "    # plot the estimates between these frames\n",
    "    (start_frame, end_frame) = (first_range, 1030)\n",
    "    # use 'count' number of frames for the estimate, separated by 'step' frames\n",
    "    # the estimate for time t will depend on data from step*count frames before t\n",
    "    (step, count) = (1,60)\n",
    "    # the standard deviation of the tracking error in pixels\n",
    "    track_error = 0.25\n",
    "\n",
    "    add_tracking_errors(track_error)\n",
    "    \n",
    "    # get a range estimate starting from frame 'f'\n",
    "    def get_range(f, debug = 0):\n",
    "        frames = [f - i*step for i in range(count)]\n",
    "        frames = [i for i in frames if first_track <= i <= end_frame]\n",
    "        return get_range_for_frames(frames, debug)\n",
    "\n",
    "    #get_range(start_frame, debug = 3)\n",
    "    #for i in range(start_frame,end_frame,50):\n",
    "    #    get_range(i, debug = 1)\n",
    "    \n",
    "    fig, ax1 = plt.subplots()\n",
    "    title = f'passive ranging (σ = {track_error}, n = {count}'\n",
    "    if step != 1:\n",
    "        title += f', step = {step}'\n",
    "    title += ')'\n",
    "    ax1.set_title(title)\n",
    "    ax1.set_xlabel('frames', loc='right')\n",
    "    ax1.set_ylabel('nm')\n",
    "    ax1.grid()\n",
    "\n",
    "    df_plot_all = df.loc[max(start_frame - step * count, first_track):end_frame]\n",
    "    df_plot_est = df.loc[start_frame:end_frame]\n",
    "    \n",
    "    def sitrec_range(r):\n",
    "        return m_to_nm(np.linalg.norm(r.target - r.jet))\n",
    "    ax1.plot(df_plot_all.apply(sitrec_range, axis=1), label = 'real range')\n",
    "    ax1.plot(df_plot_est.apply(lambda r: get_range(r.name), axis=1),\n",
    "        label = 'passive range')\n",
    "    \n",
    "    ax2 = ax1.twinx()\n",
    "    ax2.set_ylabel('degrees')\n",
    "    ax2.plot(df_plot_all.jet_roll, label='bank angle', color='red')\n",
    "    \n",
    "    lines = ax1.get_lines() + ax2.get_lines()\n",
    "    labels = [l.get_label() for l in lines]\n",
    "    ax2.legend(lines, labels, loc=0)\n",
    "    \n",
    "    ax3 = ax1.secondary_xaxis(location='top',\n",
    "        functions=(frame_to_time, time_to_frame))\n",
    "    ax3.set_xlabel('time [s]', loc='right')\n",
    "    \n",
    "    plt.show()\n",
    "\n",
    "plot_range()"
   ]
  }
 ],
 "metadata": {
  "kaggle": {
   "accelerator": "none",
   "dataSources": [],
   "dockerImageVersionId": 30786,
   "isGpuEnabled": false,
   "isInternetEnabled": true,
   "language": "python",
   "sourceType": "notebook"
  },
  "kernelspec": {
   "display_name": "Python 3",
   "language": "python",
   "name": "python3"
  },
  "language_info": {
   "codemirror_mode": {
    "name": "ipython",
    "version": 3
   },
   "file_extension": ".py",
   "mimetype": "text/x-python",
   "name": "python",
   "nbconvert_exporter": "python",
   "pygments_lexer": "ipython3",
   "version": "3.10.14"
  }
 },
 "nbformat": 4,
 "nbformat_minor": 4
}
